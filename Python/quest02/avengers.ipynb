{
  "nbformat": 4,
  "nbformat_minor": 0,
  "metadata": {
    "colab": {
      "provenance": [],
      "include_colab_link": true
    },
    "kernelspec": {
      "name": "python3",
      "display_name": "Python 3"
    },
    "language_info": {
      "name": "python"
    }
  },
  "cells": [
    {
      "cell_type": "markdown",
      "metadata": {
        "id": "view-in-github",
        "colab_type": "text"
      },
      "source": [
        "<a href=\"https://colab.research.google.com/github/mk-felix/AIFFEL_quest_cr/blob/main/Python/quest02/avengers.ipynb\" target=\"_parent\"><img src=\"https://colab.research.google.com/assets/colab-badge.svg\" alt=\"Open In Colab\"/></a>"
      ]
    },
    {
      "cell_type": "markdown",
      "source": [
        "# Avengers Vocab 만들기\n",
        "\n",
        "Vocabulary -> 단어가 특정 정수와 매칭되어 있는 딕셔너리 형태의 단어장\n",
        "\n",
        "Quest : 문장을 입력받아서 정수로 리턴해주는 함수 만들것\n",
        "\n",
        "1. .txt *불러오기*\n",
        "2. 모든 문자 소문자로 변환\n",
        "3. 모든 기호 제거\n",
        "4. 단어 단위 분리\n",
        "5. 단어 빈도수 딕셔너리 형태 저장\n",
        "6. 빈도순 내림차순 정렬 후, 인덱스 부여\n",
        "7. 텍스트 input() 입력받고, 정수 return 함수"
      ],
      "metadata": {
        "id": "aIeMX6svSItb"
      }
    },
    {
      "cell_type": "markdown",
      "source": [
        "## 파일을 googld drive에 업로드 한 후, colab에 파일 접근 권한을 줍니다."
      ],
      "metadata": {
        "id": "iU_S5Y1a5nNU"
      }
    },
    {
      "cell_type": "code",
      "source": [
        "from google.colab import drive\n",
        "drive.mount('/Quest2-AvengersVocab')"
      ],
      "metadata": {
        "colab": {
          "base_uri": "https://localhost:8080/"
        },
        "id": "yzcVQR6iSeqn",
        "outputId": "fdc83db2-59d6-4651-c09b-a957a2a37e30"
      },
      "execution_count": null,
      "outputs": [
        {
          "output_type": "stream",
          "name": "stdout",
          "text": [
            "Drive already mounted at /Quest2-AvengersVocab; to attempt to forcibly remount, call drive.mount(\"/Quest2-AvengersVocab\", force_remount=True).\n"
          ]
        }
      ]
    },
    {
      "cell_type": "markdown",
      "source": [
        "## 파일 접근합니다. 권한은 Read로 합니다. text 구문을 avengers 변수에 올립니다."
      ],
      "metadata": {
        "id": "ga8QMQ5J5-my"
      }
    },
    {
      "cell_type": "code",
      "source": [
        "f = open(\"/content/Quest2-AvengersVocab/Avengers.txt\", \"r\")\n",
        "avengers = f.read()\n",
        "\n",
        "# 디버그 용도로 avengers 변수의 내용을 프린트해봅니다.\n",
        "#print(avengers)"
      ],
      "metadata": {
        "id": "eFnZQw9zUepG"
      },
      "execution_count": null,
      "outputs": []
    },
    {
      "cell_type": "code",
      "source": [
        "# 디버그 용도로 위에서 파일 open 디스크립터였던 f 의 type을 확인합니다.\n",
        "# print(type(f))"
      ],
      "metadata": {
        "id": "VCBYh0yXX8j8"
      },
      "execution_count": null,
      "outputs": []
    },
    {
      "cell_type": "code",
      "source": [
        "# 디버그 용도로 avengers 변수의 타입을 확인합니다.\n",
        "# print(type(avengers))"
      ],
      "metadata": {
        "colab": {
          "base_uri": "https://localhost:8080/"
        },
        "id": "MkQNbX-9YW-a",
        "outputId": "10079ec9-1586-4201-d995-dfccf0e1a57e"
      },
      "execution_count": null,
      "outputs": [
        {
          "output_type": "stream",
          "name": "stdout",
          "text": [
            "<class 'str'>\n"
          ]
        }
      ]
    },
    {
      "cell_type": "markdown",
      "source": [
        "# 전처리 함수 preprocess(string)\n",
        "\n",
        "1. 모든 문자를 소문자로 변환합니다.\n",
        "2. 모든 특수문자 내지는 기호를 제거합니다.\n",
        "3. 단어 단위로 분리합니다.\n",
        "4. 분리된 단어리스트를 반환합니다."
      ],
      "metadata": {
        "id": "Zskz3GXOc233"
      }
    },
    {
      "cell_type": "code",
      "source": [
        "import re\n",
        "\n",
        "def preprocess(param):\n",
        "\n",
        "    # 소문자로 변경\n",
        "    lowerParam = param.lower()\n",
        "    # lower() 함수는 input 값을 소문자로 변경하는 것이 아니라 소문자로 변경한 string을 반환합니다.\n",
        "    # 아래 lowerParam값과 param 값을 비교해 보면 그 차이를 알 수 있습니다.\n",
        "    # print(lowerParam)\n",
        "    # print(param)\n",
        "\n",
        "\n",
        "    # 특수문자 내지 기호 제거\n",
        "\n",
        "    text_rmv = re.sub('[-=+,#/\\?:^.@*\\\"※~ㆍ!』‘|\\(\\)\\[\\]`\\'…》\\”\\“\\’·]', ' ', lowerParam)\n",
        "    text_rmv = ' '.join(text_rmv.split())\n",
        "\n",
        "    # 단어단위 분리\n",
        "    # split 함수를 통해서 빈칸을 seperator로 하여 단어들을 리스트로 집어넣어 줍니다.\n",
        "    text_word = text_rmv.split(sep=' ')\n",
        "\n",
        "\n",
        "    # print(text_rmv)\n",
        "    # print(text_word, type(text_word))\n",
        "\n",
        "\n",
        "    # 분리된 단어 리스트를 반환합니다.\n",
        "    return text_word\n",
        "\n",
        "\n"
      ],
      "metadata": {
        "id": "B_W95mKwYfkc"
      },
      "execution_count": null,
      "outputs": []
    },
    {
      "cell_type": "markdown",
      "source": [
        "인덱싱 함수 indexing(text_word)\n",
        "\n",
        "1. 분리된 단어 리스트를 입력받습니다.\n",
        "2. 단어 빈도수 딕셔너리를 생성합니다.\n",
        "3. 딕셔너리 각 요소를 내림차순으로 정렬합니다.\n",
        "4. 인덱싱합니다.\n",
        "5. 최종완성된 {단어 : 인덱스}의 딕셔너리를 반환합니다."
      ],
      "metadata": {
        "id": "8IUAucA967XP"
      }
    },
    {
      "cell_type": "code",
      "source": [
        "'''\n",
        "오퍼레이터 모듈과 관련하여서 https://zephyrus1111.tistory.com/278 참조\n",
        "'''\n",
        "\n",
        "\n",
        "import operator\n",
        "\n",
        "def indexing(text_word):\n",
        "    # 단어 빈도수 딕셔너리 생성\n",
        "    tempDic = dict()\n",
        "    for word in text_word:\n",
        "        if word in tempDic:  # 이미 dictionary에 단어가 있는 경우\n",
        "            tempDic[word] += 1\n",
        "        else:                      # dictionary에 단어가 없는 경우\n",
        "            tempDic[word] = 1\n",
        "\n",
        "    #print(tempDic)\n",
        "\n",
        "    # 딕셔너리 각 요소를 내림차순으로 정렬합니다.\n",
        "    dic = dict()\n",
        "    tempList = sorted(tempDic.items(), key = operator.itemgetter(1), reverse=True)\n",
        "    dic = dict(tempList)\n",
        "\n",
        "    # print(dic)\n",
        "    # print(type(dic))\n",
        "\n",
        "    # 인덱싱합니다\n",
        "    counter = 0\n",
        "    for i in enumerate(dic):\n",
        "      dic[i[1]] = counter\n",
        "      counter += 1\n",
        "\n",
        "    print(dic)\n",
        "\n",
        "    # 최종완성된 {단어 : 인덱스}의 딕셔너리를 반환합니다.\n",
        "    return dic\n",
        "\n",
        "    # indexedDict = dict()\n",
        "    # for idx, val in enumerate(sorted_dict):\n",
        "    #    indexedDict[idx] = val\n",
        "    # print(indexedDict)\n",
        "\n",
        "    # #최종 완성된 indexed Dictionary를 반환합니다.\n",
        "    # return indexedDict"
      ],
      "metadata": {
        "id": "7Du5qzQFvWZT"
      },
      "execution_count": null,
      "outputs": []
    },
    {
      "cell_type": "code",
      "source": [
        "a = preprocess(avengers)\n",
        "indexedDictionary = indexing(a)\n"
      ],
      "metadata": {
        "colab": {
          "base_uri": "https://localhost:8080/"
        },
        "id": "3jj_YbXFb3Zj",
        "outputId": "3f8a2478-3a24-4cb5-efb7-0d6d5c529880"
      },
      "execution_count": null,
      "outputs": [
        {
          "output_type": "stream",
          "name": "stdout",
          "text": [
            "{'you': 0, 'the': 1, 'i': 2, 'a': 3, 'to': 4, 's': 5, 'it': 6, 'we': 7, 'that': 8, 't': 9, 'of': 10, 'is': 11, 'and': 12, 'he': 13, 'this': 14, 'on': 15, 'in': 16, 'not': 17, 'what': 18, 'me': 19, 'for': 20, 're': 21, 'have': 22, 'be': 23, 'no': 24, 'know': 25, 'are': 26, 'can': 27, 'do': 28, 'out': 29, 'm': 30, 'your': 31, 'was': 32, 'loki': 33, 'they': 34, 'there': 35, 'don': 36, 'need': 37, 'my': 38, 'get': 39, 'but': 40, 'all': 41, 'up': 42, 'got': 43, 'if': 44, 'here': 45, 'did': 46, 'just': 47, 'like': 48, 'tesseract': 49, 'an': 50, 've': 51, 'about': 52, 'his': 53, 'how': 54, 'stark': 55, 'with': 56, 'so': 57, 'will': 58, 'now': 59, 'think': 60, 'gonna': 61, 'him': 62, 'down': 63, 'them': 64, 'us': 65, 'from': 66, 'come': 67, 'll': 68, 'well': 69, 'didn': 70, 'as': 71, 'sir': 72, 'right': 73, 'put': 74, 'world': 75, 'where': 76, 'one': 77, 'why': 78, 'should': 79, 'who': 80, 'our': 81, 'has': 82, 'tell': 83, 'off': 84, 'people': 85, 'guy': 86, 'back': 87, 'then': 88, 'd': 89, 'way': 90, 'were': 91, 'when': 92, 'at': 93, 'agent': 94, 'banner': 95, 'man': 96, 'power': 97, 'time': 98, 'cube': 99, 'yeah': 100, 'does': 101, 'fury': 102, 'everything': 103, 'let': 104, 'go': 105, 'doctor': 106, 'see': 107, 'mean': 108, 'would': 109, 'take': 110, 'energy': 111, 'only': 112, 'barton': 113, 'want': 114, 'war': 115, 'work': 116, 'shield': 117, 'some': 118, 'good': 119, 'other': 120, 'am': 121, 'made': 122, 'these': 123, 'oh': 124, 'isn': 125, 'wanna': 126, 'something': 127, 'little': 128, 'make': 129, 'really': 130, 'could': 131, 'call': 132, 'been': 133, 'find': 134, 'more': 135, 'wants': 136, 'gotta': 137, 'dr': 138, 'until': 139, 'every': 140, 'anything': 141, 'close': 142, 'or': 143, 'end': 144, 'too': 145, 'say': 146, 'into': 147, 'stay': 148, 'captain': 149, 'never': 150, 'selvig': 151, 'even': 152, 'engine': 153, 'director': 154, 'keep': 155, 'things': 156, 'thing': 157, 'still': 158, 'lot': 159, 'by': 160, 'thought': 161, 'sorry': 162, 'earth': 163, 'doing': 164, 'control': 165, 'yes': 166, 'turn': 167, 'might': 168, 'please': 169, 'thor': 170, 'portal': 171, 'give': 172, 'look': 173, 'uh': 174, 'romanoff': 175, 'than': 176, 'over': 177, 'avengers': 178, 'won': 179, 'had': 180, 'much': 181, 'suit': 182, 'knows': 183, 'shut': 184, 'long': 185, 'may': 186, 'she': 187, 'any': 188, 'asgard': 189, 'life': 190, 'kind': 191, 'before': 192, 'men': 193, 'hold': 194, 'big': 195, 'god': 196, 'away': 197, 'because': 198, 'okay': 199, 'very': 200, 'around': 201, 'point': 202, 'yourself': 203, 'play': 204, 'coming': 205, 'army': 206, 'hulk': 207, 'phase': 208, 'better': 209, 'maybe': 210, 'sure': 211, 'though': 212, 'nothing': 213, 'coulson': 214, 'pretty': 215, 'lost': 216, 'try': 217, 'planet': 218, 'after': 219, 'stop': 220, 'ever': 221, 'team': 222, 'seen': 223, 'remember': 224, 'going': 225, 'phil': 226, 'love': 227, 'thank': 228, 'yet': 229, 'hit': 230, 'guys': 231, 'together': 232, 'working': 233, 'force': 234, 'next': 235, 'talk': 236, 'source': 237, 'far': 238, 'again': 239, 'doesn': 240, 'brother': 241, 'once': 242, 'place': 243, 'means': 244, 'leave': 245, 'natasha': 246, 'first': 247, 'secret': 248, 'kill': 249, 'needs': 250, 'which': 251, 'enough': 252, 'jarvis': 253, 'percent': 254, 'alright': 255, 'new': 256, 'king': 257, 'plan': 258, 'done': 259, 'fight': 260, 'its': 261, 'ready': 262, 'pull': 263, '2': 264, 'space': 265, 'gamma': 266, 'open': 267, 'blow': 268, 'two': 269, 'copy': 270, 'many': 271, 'true': 272, 'takes': 273, 'father': 274, 'eyes': 275, 'spy': 276, 'miss': 277, 'those': 278, 'wipe': 279, 'use': 280, 'line': 281, 'alone': 282, 'trying': 283, 'save': 284, 'rest': 285, 'actually': 286, 'name': 287, 'whatever': 288, 'last': 289, 'hard': 290, 'word': 291, 'always': 292, 'none': 293, 'through': 294, 'their': 295, 'run': 296, 'b': 297, 'red': 298, 'wait': 299, 'lead': 300, 'chitauri': 301, 'humans': 302, 'itself': 303, 'everyone': 304, 'clear': 305, 'gone': 306, 'soon': 307, 'level': 308, 'radiation': 309, 'seeing': 310, 'set': 311, 'else': 312, 'free': 313, 'peace': 314, 'drop': 315, 'under': 316, 'without': 317, 'fall': 318, 'feel': 319, 'listen': 320, 'hell': 321, 'start': 322, 'seems': 323, 'says': 324, 'break': 325, 'monster': 326, 'exactly': 327, 'took': 328, 'called': 329, 'bring': 330, 'already': 331, 'wrong': 332, 'left': 333, 'become': 334, 'self': 335, 'light': 336, 'came': 337, 'tower': 338, 'twelve': 339, 'aren': 340, 'building': 341, 'mr': 342, 'minute': 343, 'used': 344, 'while': 345, 'huge': 346, 'job': 347, 'old': 348, 'against': 349, 'scepter': 350, 'full': 351, 'pain': 352, 'thanks': 353, 'show': 354, 'target': 355, 'location': 356, 'kneel': 357, 'move': 358, 'another': 359, 'son': 360, 'idea': 361, 'built': 362, 'lose': 363, 'understand': 364, 'york': 365, 'armor': 366, 'taking': 367, 'three': 368, 'perimeter': 369, 'heroes': 370, 'soldier': 371, 'streets': 372, 'human': 373, 'bad': 374, 'read': 375, 'test': 376, 'wasn': 377, 'room': 378, 'levels': 379, 'couldn': 380, 'distance': 381, 'supposed': 382, 'funny': 383, 'prepared': 384, 'low': 385, 'eye': 386, 'clean': 387, 'heart': 388, 'course': 389, 'glorious': 390, 'step': 391, 'freedom': 392, 'great': 393, 'hundred': 394, 'minutes': 395, 'hill': 396, 'hostile': 397, 'living': 398, 'looking': 399, 'believe': 400, 'running': 401, 'face': 402, 'hand': 403, 'ask': 404, 'wake': 405, 'stress': 406, 'city': 407, 'whole': 408, 'kept': 409, 'year': 410, 'told': 411, 'stand': 412, 'intelligence': 413, 'worlds': 414, 'initiative': 415, 'security': 416, 'push': 417, 'sentiment': 418, 'water': 419, 'weapon': 420, 'ten': 421, 'works': 422, 'her': 423, 'tomorrow': 424, 'moment': 425, 'afraid': 426, 'question': 427, 'wouldn': 428, 'heavy': 429, 'potts': 430, 'being': 431, 'model': 432, 'tony': 433, 'cause': 434, 'having': 435, 'moved': 436, 'person': 437, 'meet': 438, 'ice': 439, 'hope': 440, 'fashioned': 441, 'beyond': 442, 'threaten': 443, 'rogers': 444, 'care': 445, 'worse': 446, '1': 447, 'lets': 448, 'asking': 449, 'hands': 450, 'lab': 451, 'roof': 452, 'cluster': 453, 'rule': 454, 'few': 455, 'stuff': 456, 'iridium': 457, 'truth': 458, 'couple': 459, 'match': 460, 'attack': 461, 'threat': 462, 'sent': 463, 'hammer': 464, 'makes': 465, 'desperate': 466, 'fun': 467, 'erik': 468, 'speak': 469, 'someone': 470, 'top': 471, 'tried': 472, 'focused': 473, 'nice': 474, 'changed': 475, 'started': 476, 'mind': 477, 'ledger': 478, 'change': 479, 'same': 480, 'weapons': 481, 'slow': 482, 'form': 483, 'hero': 484, 'needed': 485, 'party': 486, 'attention': 487, 'super': 488, 'rotors': 489, 'lever': 490, 'anybody': 491, 'believing': 492, 'send': 493, 'late': 494, 'hear': 495, 'council': 496, 'decision': 497, 'shawarma': 498, 'drink': 499, 'wield': 500, 'follow': 501, 'universe': 502, 'yours': 503, 'problem': 504, 'four': 505, 'hour': 506, 'evac': 507, 'half': 508, 'sleep': 509, 'safe': 510, 'act': 511, 'piece': 512, 'certain': 513, 'misbehaving': 514, 'turns': 515, 'harmful': 516, 'gave': 517, 'door': 518, 'doors': 519, 'purpose': 520, 'quarrel': 521, 'ant': 522, 'boot': 523, 'planning': 524, 'glad': 525, 'lie': 526, 'stalling': 527, 'feet': 528, 'raw': 529, 'odin': 530, 'goes': 531, 'track': 532, 'sound': 533, 'general': 534, 'roger': 535, 'base': 536, 'seven': 537, 'tonight': 538, 'must': 539, 'transport': 540, 'tchalakov': 541, 'handle': 542, 'boy': 543, 'giving': 544, 'compromised': 545, 'alive': 546, 'heat': 547, 'paid': 548, 'front': 549, 'avoiding': 550, 'brought': 551, 'smart': 552, 'assume': 553, 'nick': 554, 'potential': 555, 'signature': 556, 'cage': 557, 'lying': 558, 'wanted': 559, 'easy': 560, 'dealing': 561, 'councilman': 562, 'saying': 563, 'help': 564, 'either': 565, 'focusing': 566, 'response': 567, 'list': 568, 'leaving': 569, 'anyone': 570, 'soldiers': 571, 'wont': 572, 'trouble': 573, 'sleeping': 574, 'years': 575, 'celebrating': 576, 'along': 577, 'hydra': 578, 'ocean': 579, 'key': 580, 'unlimited': 581, 'speed': 582, 'package': 583, 'towers': 584, 'sustaining': 585, 'reactor': 586, 'enjoy': 587, 'date': 588, 'genius': 589, 'credit': 590, 'baby': 591, 'private': 592, 'elevator': 593, 'subtle': 594, 'protocol': 595, 'breach': 596, 'possible': 597, 'handed': 598, 'hours': 599, 'notice': 600, 'jet': 601, 'c': 602, 'homework': 603, 'finished': 604, 'deal': 605, 'drive': 606, 'cellist': 607, 'gammer': 608, 'honor': 609, 'sort': 610, 'met': 611, 'uniform': 612, 'happening': 613, 'grow': 614, 'restless': 615, 'battle': 616, 'knowledge': 617, 'bridge': 618, 'sign': 619, 'america': 620, 'trading': 621, 'cards': 622, 'vintage': 623, 'gentlemen': 624, 'inside': 625, 'breath': 626, 'metal': 627, '6': 628, 'effect': 629, 'engage': 630, 'reflection': 631, 'panels': 632, 'engaged': 633, 'sweeping': 634, 'cell': 635, 'spectrometers': 636, 'access': 637, 'tracking': 638, 'laboratory': 639, 'found': 640, 'anti': 641, 'stuttgart': 642, 'germany': 643, 'hiding': 644, 'said': 645, 'humanity': 646, 'scramble': 647, 'saw': 648, 'above': 649, 'today': 650, 'easily': 651, 'missed': 652, 'matter': 653, 'lightning': 654, 'asgardian': 655, 'cap': 656, 'dark': 657, 'dead': 658, 'throne': 659, 'known': 660, 'home': 661, 'touch': 662, 'park': 663, 'yep': 664, 'case': 665, 'thirty': 666, 'straight': 667, 'trap': 668, 'heard': 669, 'beast': 670, 'mankind': 671, 'real': 672, '\\\\': 673, 'win': 674, 'outer': 675, 'friend': 676, 'brain': 677, 'bag': 678, 'killed': 679, 'swing': 680, 'playing': 681, 'night': 682, 'barrier': 683, 'unless': 684, 'figured': 685, 'english': 686, 'happened': 687, 'green': 688, 'rage': 689, 'stick': 690, 'powered': 691, 'personal': 692, 'monkeys': 693, 'shall': 694, 'clock': 695, 'six': 696, 'promise': 697, 'environment': 698, 'threatening': 699, 'safety': 700, 'secrets': 701, 'prototype': 702, 'business': 703, 'wind': 704, 'orders': 705, 'style': 706, 'wondering': 707, 'shouldn': 708, 'jump': 709, 'ah': 710, 'crawl': 711, 'stops': 712, 'part': 713, 'learned': 714, 'different': 715, 'hey': 716, 'accident': 717, 'saved': 718, 'guess': 719, 'suddenly': 720, 'pretend': 721, 'bilchsteim': 722, 'hasn': 723, 'happens': 724, 'bargain': 725, 'separate': 726, 'fear': 727, 'locked': 728, 'moving': 729, 'bit': 730, 'build': 731, 'mass': 732, 'destruction': 733, 'controlled': 734, 'higher': 735, 'nuclear': 736, 'chaos': 737, 'o': 738, 'damn': 739, 'billionaire': 740, 'lay': 741, 'wire': 742, 'cut': 743, 'belongs': 744, 'detonation': 745, 'number': 746, 'engines': 747, 'fire': 748, 'turbine': 749, 'intact': 750, 'bruce': 751, 'recalibration': 752, 'system': 753, 'relays': 754, 'enemies': 755, 'gets': 756, 'deck': 757, 'tear': 758, 'apart': 759, 'headed': 760, 'losing': 761, 'sky': 762, 'boss': 763, 'awake': 764, 'jacket': 765, 'air': 766, 'communications': 767, 'group': 768, 'fell': 769, 'hurt': 770, 'nobody': 771, 'fella': 772, 'alien': 773, 'clint': 774, 'head': 775, 'suppose': 776, 'authorized': 777, 'ranugal': 778, '7': 779, 'legend': 780, 'issues': 781, 'protect': 782, 'fighting': 783, 'nat': 784, 'civilian': 785, 'budapest': 786, 'buildings': 787, 'angry': 788, 'blocks': 789, 'guns': 790, 'ride': 791, 'order': 792, 'responsible': 793, 'awakened': 794, 'neutral': 795, 'ally': 796, 'learn': 797, 'burn': 798, 'surge': 799, 'ago': 800, 'nasa': 801, 'authorize': 802, 'testing': 803, 'spontaneous': 804, 'advancement': 805, 'turned': 806, 'climbing': 807, 'ordered': 808, 'campus': 809, 'evacuation': 810, 'futile': 811, 'minimum': 812, 'priority': 813, 'such': 814, 'ends': 815, 'intends': 816, 'spin': 817, 'tech': 818, 'below': 819, 'truck': 820, 'active': 821, 'plug': 822, 'reaches': 823, 'peak': 824, 'harnessing': 825, 'harness': 826, 'calculations': 827, 'complete': 828, 'throwing': 829, 'interference': 830, 'hawk': 831, 'nest': 832, 'usual': 833, 'report': 834, 'detail': 835, 'spiking': 836, 'oven': 837, 'contacts': 838, 'tampering': 839, 'doorway': 840, 'both': 841, 'sides': 842, 'spear': 843, 'messier': 844, 'burdened': 845, 'tidings': 846, 'accept': 847, 'material': 848, 'bury': 849, 'pharaohs': 850, 'collapsing': 851, 'critical': 852, 'vehicles': 853, 'ets': 854, 'cleared': 855, 'upstairs': 856, 'survivors': 857, 'soul': 858, 'needing': 859, 'rescue': 860, 'briefcase': 861, 'subtitle': 862, 'javani': 863, 'lermentoville': 864, 'confident': 865, 'exports': 866, 'doll': 867, 'outdated': 868, 'information': 869, 'derived': 870, 'famous': 871, 'black': 872, 'widow': 873, 'beautiful': 874, 'lermentovia': 875, 'tank': 876, 'medium': 877, 'term': 878, 'write': 879, 'carefully': 880, 'silenskin': 881, 'box': 882, '114': 883, 'third': 884, 'floor': 885, 'f': 886, '22': 887, '13': 888, 'draw': 889, 'kilometer': 890, 'radius': 891, 'woman': 892, 'phone': 893, 'block': 894, 'lobby': 895, 'kidding': 896, 'precedence': 897, 'middle': 898, 'interrogation': 899, 'moron': 900, 'brief': 901, 'trusts': 902, 'throw': 903, 'disease': 904, 'body': 905, 'noise': 906, 'slower': 907, 'rate': 908, 'picked': 909, 'settle': 910, 'yoga': 911, 'ou': 912, 'edge': 913, 'surrounded': 914, 'actress': 915, 'buddy': 916, 'young': 917, 'behalf': 918, 'helped': 919, 'interested': 920, 'parties': 921, 'scent': 922, 'trust': 923, 'persuade': 924, 'incident': 925, 'streak': 926, 'facing': 927, 'global': 928, 'catastrophe': 929, 'actively': 930, 'avoid': 931, 'swallow': 932, 'taken': 933, 'omits': 934, 'weak': 935, 'trace': 936, 'tells': 937, 'mess': 938, 'forces': 939, 'firefight': 940, 'abundance': 941, 'declared': 942, 'depend': 943, 'designed': 944, 'enemy': 945, 'greatest': 946, 'covert': 947, 'network': 948, 'fate': 949, 'race': 950, 'handful': 951, 'freaks': 952, 'isolated': 953, 'unbalanced': 954, 'slept': 955, '70': 956, 'fill': 957, 'went': 958, 'mistakes': 959, 'recently': 960, 'mission': 961, 'howard': 962, 'fished': 963, 'sustainable': 964, 'sorely': 965, 'gotten': 966, 'stranger': 967, 'doubt': 968, 'surprise': 969, 'bucks': 970, 'debriefing': 971, 'waiting': 972, 'apartment': 973, 'ought': 974, 'disconnected': 975, 'transition': 976, 'lines': 977, 'grid': 978, 'beacon': 979, 'wow': 980, 'christmas': 981, 'wider': 982, 'public': 983, 'awareness': 984, 'campaign': 985, 'press': 986, 'zoning': 987, 'billboards': 988, 'pepper': 989, 'killing': 990, 'insisting': 991, 'holding': 992, 'steady': 993, 'directly': 994, 'involved': 995, 'brings': 996, 'ha': 997, 'argument': 998, 'fifteen': 999, 'lifting': 1000, 'literally': 1001, 'lifted': 1002, 'snafu': 1003, 'teeming': 1004, 'sweaty': 1005, 'workmen': 1006, 'pay': 1007, 'comment': 1008, 'percentages': 1009, 'later': 1010, 'lease': 1011, 'mom': 1012, 'bunk': 1013, 'telephone': 1014, 'overwritten': 1015, 'reached': 1016, 'decoy': 1017, 'message': 1018, 'urgent': 1019, 'urgently': 1020, 'trade': 1021, 'official': 1022, 'consulting': 1023, 'between': 1024, 'eight': 1025, 'five': 1026, 'thursday': 1027, 'consultation': 1028, 'scrapped': 1029, 'qualify': 1030, 'apparently': 1031, 'volatile': 1032, 'obsessed': 1033, 'others': 1034, 'personality': 1035, 'profiles': 1036, 'anymore': 1037, 'sec': 1038, 'serious': 1039, 'shaken': 1040, 'square': 1041, 'past': 1042, 'airport': 1043, 'chance': 1044, 'fantastic': 1045, 'relationship': 1046, 'portland': 1047, 'forty': 1048, 'replicate': 1049, 'serum': 1050, 'superhero': 1051, 'unlocking': 1052, 'erskine': 1053, 'original': 1054, 'formula': 1055, 'stephen': 1056, 'hawking': 1057, 'officially': 1058, 'watched': 1059, 'present': 1060, 'unconscious': 1061, 'board': 1062, 'absolutely': 1063, 'modifications': 1064, 'design': 1065, 'input': 1066, 'stars': 1067, 'stripes': 1068, 'meagre': 1069, 'lengthy': 1070, 'formidable': 1071, 'claim': 1072, 'ancient': 1073, 'cast': 1074, 'defeated': 1075, 'rightful': 1076, 'betrayed': 1077, 'ambition': 1078, 'childish': 1079, 'avail': 1080, 'mine': 1081, 'command': 1082, 'wars': 1083, 'guardian': 1084, 'fail': 1085, 'realm': 1086, 'barren': 1087, 'moon': 1088, 'crevasse': 1089, 'receive': 1090, 'sweet': 1091, 'equipment': 1092, 'quite': 1093, 'buzz': 1094, 'finding': 1095, 'swoon': 1096, 'proud': 1097, 'hi': 1098, 'strange': 1099, 'familiar': 1100, 'submarine': 1101, 'submerged': 1102, 'pressurized': 1103, 'container': 1104, 'operating': 1105, 'sheild': 1106, 'emergency': 1107, '9': 1108, '3': 1109, 'vanish': 1110, 'retro': 1111, 'nicely': 1112, 'staying': 1113, 'wirelessly': 1114, 'accessible': 1115, 'camera': 1116, 'phones': 1117, 'laptops': 1118, 'connected': 1119, 'satellite': 1120, 'ears': 1121, 'narrow': 1122, 'field': 1123, 'calibrate': 1124, 'rays': 1125, 'rough': 1126, 'algorithm': 1127, 'based': 1128, 'recognition': 1129, 'least': 1130, 'places': 1131, 'somewhere': 1132, 'doc': 1133, 'toys': 1134, 'meteorites': 1135, 'forms': 1136, 'protons': 1137, 'specially': 1138, 'showing': 1139, 'distraction': 1140, 'eyeball': 1141, 'fine': 1142, 'collect': 1143, 'near': 1144, 'mint': 1145, 'slight': 1146, 'foxing': 1147, 'edges': 1148, 'sixty': 1149, 'weight': 1150, 'cross': 1151, 'seventy': 1152, 'nine': 1153, '28': 1154, 'canning': 1155, 'strasse': 1156, 'simpler': 1157, 'natural': 1158, 'state': 1159, 'unspoken': 1160, 'crave': 1161, 'subjugation': 1162, 'bright': 1163, 'lure': 1164, 'diminishes': 1165, 'joy': 1166, 'mad': 1167, 'identity': 1168, 'ruled': 1169, 'elder': 1170, 'example': 1171, 'standing': 1172, 'everybody': 1173, 'ended': 1174, 'disagreeing': 1175, 'reindeer': 1176, 'names': 1177, 'rock': 1178, 'ages': 1179, 'packs': 1180, 'wallop': 1181, 'spry': 1182, 'older': 1183, 'fellow': 1184, 'pilates': 1185, 'calisthenics': 1186, 'capsicle': 1187, 'calling': 1188, 'scared': 1189, 'overly': 1190, 'fond': 1191, 'follows': 1192, 'friendly': 1193, 'frees': 1194, 'kills': 1195, 'sit': 1196, 'legends': 1197, 'basically': 1198, 'gods': 1199, 'ma': 1200, 'dress': 1201, 'gaming': 1202, 'mood': 1203, 'bifrost': 1204, 'muster': 1205, 'conjure': 1206, 'precious': 1207, 'mourn': 1208, 'parentage': 1209, 'raised': 1210, 'played': 1211, 'fought': 1212, 'shadows': 1213, 'shade': 1214, 'greatness': 1215, 'tossing': 1216, 'abyss': 1217, 'recompense': 1218, 'imagined': 1219, 'slights': 1220, 'protection': 1221, 'marvelous': 1222, 'slaughter': 1223, 'each': 1224, 'droves': 1225, 'ideally': 1226, 'ruling': 1227, 'ill': 1228, 'grown': 1229, 'exile': 1230, 'showed': 1231, 'controls': 1232, 'poisonous': 1233, 'dream': 1234, 'listening': 1235, 'shakespeare': 1236, 'doth': 1237, 'mother': 1238, 'weareth': 1239, 'drapes': 1240, 'justice': 1241, 'gives': 1242, 'tourist': 1243, 'thats': 1244, 'schemes': 1245, 'prove': 1246, 'loves': 1247, 'unclear': 1248, 'escape': 1249, 'scratch': 1250, 'glass': 1251, 'thousand': 1252, 'steel': 1253, 'impressive': 1254, 'stronger': 1255, 'mindless': 1256, 'creatures': 1257, 'defend': 1258, 'steal': 1259, 'ooh': 1260, 'burns': 1261, 'share': 1262, 'reminded': 1263, 'magazine': 1264, 'grows': 1265, 'drag': 1266, 'nor': 1267, 'return': 1268, 'suspect': 1269, 'astrophysicist': 1270, 'spell': 1271, 'ours': 1272, 'leading': 1273, 'cats': 1274, 'smell': 1275, 'crazy': 1276, 'reason': 1277, 'eighty': 1278, 'days': 1279, 'adopted': 1280, 'mechanics': 1281, 'stabilizing': 1282, 'collapse': 1283, 'feelings': 1284, 'also': 1285, 'wide': 1286, 'gallaga': 1287, 'sounds': 1288, 'exhausting': 1289, 'materials': 1290, 'major': 1291, 'component': 1292, 'high': 1293, 'density': 1294, 'kick': 1295, 'expert': 1296, 'thermonuclear': 1297, 'astrophysics': 1298, 'packet': 1299, 'notes': 1300, 'extraction': 1301, 'theory': 1302, 'papers': 1303, 'reading': 1304, 'particular': 1305, 'twenty': 1306, 'million': 1307, 'kelvin': 1308, 'coulomb': 1309, 'stabilize': 1310, 'quantum': 1311, 'tunnelling': 1312, 'achieve': 1313, 'ion': 1314, 'fusion': 1315, 'finally': 1316, 'speaks': 1317, 'electron': 1318, 'collisions': 1319, 'unparalleled': 1320, 'fan': 1321, 'enormous': 1322, 'hoping': 1323, 'join': 1324, 'magical': 1325, 'awful': 1326, 'sharpest': 1327, 'flying': 1328, 'understood': 1329, 'reference': 1330, 'readings': 1331, 'definitely': 1332, 'consistent': 1333, 'reports': 1334, 'weeks': 1335, 'process': 1336, 'bypass': 1337, 'mainframe': 1338, 'direct': 1339, 'reroute': 1340, 'homer': 1341, 'teraflops': 1342, 'packed': 1343, 'tooth': 1344, 'brush': 1345, 'sometime': 1346, 'floors': 1347, 'r': 1348, 'candy': 1349, 'land': 1350, 'broke': 1351, 'harlem': 1352, 'tension': 1353, 'surprises': 1354, 'nuts': 1355, 'lid': 1356, 'haven': 1357, 'mellow': 1358, 'jazz': 1359, 'bongo': 1360, 'drums': 1361, 'weed': 1362, 'joke': 1363, 'ship': 1364, 'offense': 1365, 'aboard': 1366, 'pointy': 1367, 'tiptoeing': 1368, 'strut': 1369, 'focus': 1370, 'telling': 1371, 'equation': 1372, 'variables': 1373, 'bugging': 1374, 'finish': 1375, 'jab': 1376, 'meant': 1377, 'post': 1378, 'news': 1379, 'ugly': 1380, 'reactors': 1381, 'project': 1382, 'probably': 1383, 'decryption': 1384, 'programme': 1385, 'finishes': 1386, 'breaking': 1387, 'secure': 1388, 'files': 1389, 'since': 1390, 'dirty': 1391, 'hide': 1392, 'blueberry': 1393, 'confused': 1394, 'organization': 1395, 'fears': 1396, 'historically': 1397, 'succeed': 1398, 'following': 1399, 'is;': 1400, 'wearing': 1401, 'spangly': 1402, 'outfit': 1403, 'steve': 1404, 'smells': 1405, 'funky': 1406, 'dad': 1407, 'acme': 1408, 'dynamite': 1409, 'kit': 1410, 'suiting': 1411, 'exposed': 1412, 'nerve': 1413, 'nightmare': 1414, 'shrapnel': 1415, 'second': 1416, 'circle': 1417, 'terrible': 1418, 'privilege': 1419, 'exposure': 1420, 'jane': 1421, 'foster': 1422, 'excellent': 1423, 'observatory': 1424, 'traunsee': 1425, 'asked': 1426, 'consult': 1427, 'yesterday': 1428, 'handsome': 1429, 'fee': 1430, 'plane': 1431, 'remote': 1432, 'dread': 1433, 'plans': 1434, 'talks': 1435, 'advanced': 1436, 'battling': 1437, 'know;': 1438, 'scaly': 1439, 'antlers': 1440, 'repulsive': 1441, 'trample': 1442, 'path': 1443, 'followed': 1444, 'price': 1445, 'n': 1446, 'youth': 1447, 'courted': 1448, 'afield': 1449, 'craves': 1450, 'vengeance': 1451, 'upon': 1452, 'prise': 1453, 'prisoner': 1454, 'boat': 1455, 'sneak': 1456, 'tortures': 1457, 'concoct': 1458, 'appear': 1459, 'balm': 1460, 'cooperate': 1461, 'expanded': 1462, 'mountain': 1463, 'children': 1464, 'owe': 1465, 'debt': 1466, 'worked': 1467, 'myself': 1468, 'specific': 1469, 'skillset': 1470, 'radar': 1471, 'vow': 1472, 'spare': 1473, 'balance': 1474, 'regime': 1475, 'everyday': 1476, 'tend': 1477, 'weep': 1478, 'russian': 1479, 'complicated': 1480, 'drakoff': 1481, 'daughter': 1482, 'sao': 1483, 'paulo': 1484, 'hospital': 1485, 'file': 1486, 'dripping': 1487, 'gushing': 1488, 'saving': 1489, 'virtuous': 1490, 'basest': 1491, 'sentimentality': 1492, 'child': 1493, 'prayer': 1494, 'pathetic': 1495, 'service': 1496, 'liars': 1497, 'killers': 1498, 'own': 1499, 'code': 1500, 'horrors': 1501, 'barter': 1502, 'slowly': 1503, 'intimately': 1504, 'screams': 1505, 'split': 1506, 'skull': 1507, 'mewling': 1508, 'quin': 1509, 'unleash': 1510, 'cooperation': 1511, 'locating': 1512, 'within': 1513, 'mile': 1514, 'muss': 1515, 'fuss': 1516, 'computer': 1517, 'gathered': 1518, 'related': 1519, 'removing': 1520, 'calcutta': 1521, 'removed': 1522, 'manipulating': 1523, 'bat': 1524, 'eyelashes': 1525, 'twitchy': 1526, 'using': 1527, 'visitor': 1528, 'grudge': 1529, 'levelled': 1530, 'small': 1531, 'town': 1532, 'hopelessly': 1533, 'hilariously': 1534, 'gunned': 1535, 'filling': 1536, 'matched': 1537, 'drew': 1538, 'allies': 1539, 'signal': 1540, 'realms': 1541, 'forced': 1542, 'deterrent': 1543, 'calms': 1544, 'remind': 1545, 'fortune': 1546, 'neck': 1547, 'deep': 1548, 'evolved': 1549, 'excuse': 1550, 'court': 1551, 'chemical': 1552, 'mixture': 1553, 'bomb': 1554, 'steam': 1555, 'starting': 1556, 'playboy': 1557, 'philanthropist': 1558, 'worth': 1559, 'footage': 1560, 'sacrifice': 1561, 'pretending': 1562, 'experiment': 1563, 'special': 1564, 'bottle': 1565, 'suite': 1566, 'rounds': 1567, 'petty': 1568, 'tiny': 1569, 'escort': 1570, 'renting': 1571, 'bullet': 1572, 'mouth': 1573, 'spit': 1574, 'helping': 1575, 'dragged': 1576, 'freak': 1577, 'risk': 1578, 'calm': 1579, 'kids': 1580, 'trick': 1581, 'located': 1582, 'faster': 1583, 'looks': 1584, 'mostly': 1585, 'impossible': 1586, 'repair': 1587, 'outside': 1588, 'patch': 1589, 'capy': 1590, 'cameras': 1591, 'swear': 1592, 'walk': 1593, 'carrying': 1594, '180': 1595, 'south': 1596, 'navigation': 1597, 'failure': 1598, 'sun': 1599, 'trapped': 1600, 'conducting': 1601, 'cooling': 1602, 'online': 1603, 'dislodging': 1604, 'debris': 1605, 'panel': 1606, 'overload': 1607, 'position': 1608, 'electricity': 1609, 'shredded': 1610, 'unit': 1611, 'reverse': 1612, 'polarity': 1613, 'disengage': 1614, 'mag': 1615, 'lower': 1616, 'grenade': 1617, 'wiped': 1618, 'gear': 1619, 'research': 1620, 'escorts': 1621, 'proceed': 1622, 'acquired': 1623, 'detention': 1624, 'altitude': 1625, 'noticed': 1626, 'immortal': 1627, 'destroyer': 1628, 'nature': 1629, 'scattered': 1630, 'floating': 1631, 'fortress': 1632, 'falls': 1633, 'disadvantage': 1634, 'lack': 1635, 'conviction': 1636, 'rabbited': 1637, 'clockin': 1638, 'option': 1639, 'medical': 1640, 'arsenal': 1641, 'chips': 1642, 'riskier': 1643, 'remarkable': 1644, 'battles': 1645, 'died': 1646, 'notion': 1647, 'scare': 1648, 'pigeons': 1649, 'lucky': 1650, 'aim': 1651, 'ceiling': 1652, 'buck': 1653, 'ass': 1654, 'nude': 1655, 'fit': 1656, 'shrunk': 1657, 'regular': 1658, 'size': 1659, 'condition': 1660, 'flush': 1661, 'unmade': 1662, 'cognitive': 1663, 'agents': 1664, 'monsters': 1665, 'magic': 1666, 'trained': 1667, 'arrow': 1668, 'socket': 1669, 'wade': 1670, 'married': 1671, 'seemed': 1672, 'idiot': 1673, 'league': 1674, 'waited': 1675, 'sometimes': 1676, 'marching': 1677, 'fife': 1678, 'neither': 1679, 'blood': 1680, 'behind': 1681, 'live': 1682, 'conquer': 1683, 'greed': 1684, 'beat': 1685, 'audience': 1686, 'caught': 1687, 'previews': 1688, 'opening': 1689, 'tail': 1690, 'diva': 1691, 'flowers': 1692, 'parades': 1693, 'monument': 1694, 'skies': 1695, 'plastered': 1696, 'fly': 1697, 'jets': 1698, 'device': 1699, 'sustainig': 1700, 'pure': 1701, 'unbreachable': 1702, 'mark': 1703, 'deployment': 1704, 'skip': 1705, 'spinning': 1706, 'ring': 1707, 'appeal': 1708, 'mileage': 1709, 'blue': 1710, 'destiny': 1711, 'ourselves': 1712, 'mightiest': 1713, 'type': 1714, 'traction': 1715, 'count': 1716, 'demi': 1717, 'lives': 1718, 'anger': 1719, 'management': 1720, 'master': 1721, 'assassins': 1722, 'managed': 1723, 'piss': 1724, 'single': 1725, 'wandered': 1726, 'missing': 1727, 'version': 1728, 'comes': 1729, 'damned': 1730, 'avenge': 1731, 'friends': 1732, 'busy': 1733, 'performance': 1734, 'anytime': 1735, 'pissed': 1736, 'destroy': 1737, 'stopping': 1738, 'heading': 1739, 'north': 1740, 'east': 1741, 'incoming': 1742, 'occupied': 1743, 'shown': 1744, 'posted': 1745, 'soft': 1746, 'spot': 1747, 'madness': 1748, 'genuine': 1749, 'pleasure': 1750, 'differently': 1751, 'national': 1752, 'guard': 1753, 'basement': 1754, 'subway': 1755, '39th': 1756, '39': 1757, 'street': 1758, 'heads': 1759, 'powers': 1760, 'surrounding': 1761, 'impenetrable': 1762, 'unfinished': 1763, 'wild': 1764, 'horrible': 1765, 'banne': 1766, 'bringing': 1767, 'containment': 1768, 'patterns': 1769, 'strays': 1770, 'ash': 1771, 'lift': 1772, 'clench': 1773, 'legoolas': 1774, 'bottleneck': 1775, 'bastards': 1776, 'ground': 1777, 'bsmash': 1778, 'smash': 1779, 'grrr': 1780, 'xoxoxo': 1781, 'strand': 1782, 'cant': 1783, 'bang': 1784, 'squadron': 1785, 'invite': 1786, 'biggest': 1787, 'boost': 1788, 'recognize': 1789, 'given': 1790, 'stupid': 1791, 'assed': 1792, 'elected': 1793, 'ignore': 1794, 'closer': 1795, 'subs': 1796, 'island': 1797, 'manhattan': 1798, 'strike': 1799, 'population': 1800, 'bird': 1801, 'hawkeye': 1802, 'beneath': 1803, 'dull': 1804, 'creature': 1805, 'bullied': 1806, 'puny': 1807, 'fault': 1808, 'able': 1809, 'penetrate': 1810, 'shell': 1811, 'jonah': 1812, 'considering': 1813, 'role': 1814, 'longer': 1815, 'overwrite': 1816, 'alfa': 1817, 'born': 1818, 'motion': 1819, 'repeat': 1820, 'missile': 1821, 'best': 1822, 'load': 1823, 'seconds': 1824, 'bout': 1825, 'gettin': 1826, 'sleepy': 1827, 'nuke': 1828, 'less': 1829, 'trip': 1830, 'jarvs': 1831, 'tray': 1832, 'battleground': 1833, 'contain': 1834, 'violence': 1835, 'clearly': 1836, 'iron': 1837, 'slowing': 1838, 'kissed': 1839, 'day': 1840, 'joint': 1841, 'devastation': 1842, 'confirmed': 1843, 'extra': 1844, 'terrestrial': 1845, 'extraordinary': 1846, 'heroic': 1847, 'held': 1848, 'currently': 1849, 'whereabouts': 1850, 'earned': 1851, 'absence': 1852, 'reach': 1853, 'criminal': 1854, 'answering': 1855, 'crime': 1856, 'letting': 1857, 'loose': 1858, 'dangerous': 1859, 'surely': 1860, 'statement': 1861, 'ways': 1862, 'extremely': 1863, 'situation': 1864, 'mam': 1865, 'hai': 1866, 'shortage': 1867, '40%': 1868, 'capacity': 1869, 'bsecure': 1870, 'storage': 1871, '10': 1872, 'bs': 1873, 'h': 1874, 'e': 1875, 'l': 1876, 'accelerator': 1877, 'factory': 1878, 'argue': 1879}\n"
          ]
        }
      ]
    },
    {
      "cell_type": "markdown",
      "source": [
        "# 사용자 입력을 받고 원하는 결과값을 얻어냅니다."
      ],
      "metadata": {
        "id": "49UNl3ExwP_D"
      }
    },
    {
      "cell_type": "code",
      "source": [
        "def process():\n",
        "    # 텍스트 input() 입력받고, 정수 return 함수\n",
        "    input_text = input(\"단어 입력하세요: \")\n",
        "\n",
        "    # input_text를 전처리하고 분리된 단어 리스트를 얻어냄.\n",
        "    seperatedInput = preprocess(input_text)\n",
        "    print(seperatedInput)\n",
        "\n",
        "\n",
        "    output = list()\n",
        "    for sepWord in seperatedInput:\n",
        "      # sepWord가 indexedDictionary에 있는지 확인\n",
        "      for k in indexedDictionary.keys():\n",
        "\n",
        "        if sepWord == k:\n",
        "          # print(indexedDictionary[k])\n",
        "          output.append(indexedDictionary[k])\n",
        "\n",
        "        else:\n",
        "          pass\n",
        "\n",
        "    print(output)\n",
        "\n",
        "\n"
      ],
      "metadata": {
        "id": "PMpF6G4tb4-w"
      },
      "execution_count": null,
      "outputs": []
    },
    {
      "cell_type": "code",
      "source": [
        "process()"
      ],
      "metadata": {
        "colab": {
          "base_uri": "https://localhost:8080/"
        },
        "id": "i_v4egdnwjJM",
        "outputId": "f09d1b5c-6317-468e-863c-dbe47e476adc"
      },
      "execution_count": null,
      "outputs": [
        {
          "output_type": "stream",
          "name": "stdout",
          "text": [
            "단어 입력하세요: I am a boy\n",
            "['i', 'am', 'a', 'boy']\n",
            "[2, 121, 3, 543]\n"
          ]
        }
      ]
    },
    {
      "cell_type": "code",
      "source": [],
      "metadata": {
        "id": "tpABfIWiwkT7"
      },
      "execution_count": null,
      "outputs": []
    },
    {
      "cell_type": "markdown",
      "source": [
        "# 회고\n",
        "\n",
        "### 김민규(03)\n",
        "1. list, dictionary 다루는 것이 좀 더 익숙해질 필요가 있겠습니다.\n",
        "2. 데이터 처리 후에 검증을 어떻게 할 것인지에 대해 고민하게 되었습니다. 즉, 예를 든다면 문제에서 출력 예시로 든 경우\n",
        "'I am a boy\"에서 boy가 541이 나오지만 우리 팀에서 작성한 프로그램으로는 543이 출력됩니다. 과연 어떤 값이 맞는지 어떻게 검증할 것인가? 라는 문제를 생각하게 되었습니다.\n",
        "3. 파이썬에 좀 더 애정을 가져야겠습니다.\n",
        "\n",
        "\n",
        "### 고은비\n",
        "1. 아직 리스트, 딕셔너리를 다루는 부분에 있어서 어떤 걸 사용해야 할 지 아리쏭한 것 같습니다. 더 익숙해질 필요성을 많이 느꼈습니다.\n",
        "2. 예시답안과 동일하게 넣었으나, 값이 다른 건 txt 파일에서 사용된 문장이 조금 다른건지, 아니면 다른 요소의 작용이 있는지 궁금하지만, 해결할 방법은 모르겠습니다."
      ],
      "metadata": {
        "id": "UO7tsrajF7Xr"
      }
    },
    {
      "cell_type": "code",
      "source": [],
      "metadata": {
        "id": "QulR1HcFGdWW"
      },
      "execution_count": null,
      "outputs": []
    },
    {
      "cell_type": "markdown",
      "source": [],
      "metadata": {
        "id": "XLM4OL3PGpa3"
      }
    }
  ]
}
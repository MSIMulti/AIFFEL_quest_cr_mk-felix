{
  "nbformat": 4,
  "nbformat_minor": 0,
  "metadata": {
    "colab": {
      "provenance": [],
      "authorship_tag": "ABX9TyO05QIzyV7ovOtM/k1UviIn",
      "include_colab_link": true
    },
    "kernelspec": {
      "name": "python3",
      "display_name": "Python 3"
    },
    "language_info": {
      "name": "python"
    }
  },
  "cells": [
    {
      "cell_type": "markdown",
      "metadata": {
        "id": "view-in-github",
        "colab_type": "text"
      },
      "source": [
        "<a href=\"https://colab.research.google.com/github/mk-felix/AIFFEL_quest_cr/blob/main/Python/quest01/palindrome.ipynb\" target=\"_parent\"><img src=\"https://colab.research.google.com/assets/colab-badge.svg\" alt=\"Open In Colab\"/></a>"
      ]
    },
    {
      "cell_type": "code",
      "execution_count": 1,
      "metadata": {
        "colab": {
          "base_uri": "https://localhost:8080/"
        },
        "id": "swFklQe7nbmv",
        "outputId": "24c60059-bac0-429f-de28-d4b8660e0397"
      },
      "outputs": [
        {
          "output_type": "stream",
          "name": "stdout",
          "text": [
            "Hello World!\n"
          ]
        }
      ],
      "source": [
        "print('Hello World!')"
      ]
    },
    {
      "cell_type": "code",
      "source": [],
      "metadata": {
        "id": "C8gUB2ZBnk4C"
      },
      "execution_count": null,
      "outputs": []
    },
    {
      "cell_type": "markdown",
      "source": [
        "# 제목\n",
        "## 본문\n",
        "### 퀘스트 내용 퀘스트 조건\n",
        "* 토마토   우영우   회문\n",
        "\n",
        "앞으로 읽어도 뒤로 읽어도 같은 글자\n",
        "\n",
        "google colab >> 검색\n",
        "\n",
        "palindrome detection algorithm\n",
        "여기서는 간단하게 구현 가능.\n",
        "\n",
        "\n"
      ],
      "metadata": {
        "id": "w9twHgD1nwsb"
      }
    },
    {
      "cell_type": "code",
      "source": [],
      "metadata": {
        "id": "NcsQsRKmnzfk"
      },
      "execution_count": null,
      "outputs": []
    },
    {
      "cell_type": "markdown",
      "source": [
        "<시작>\n",
        "\n",
        "당장 코드 작성하기 앞서서\n",
        "\n",
        "큰 알고리즘 윤곽 글로 작성해보기\n",
        "\n",
        "-- algorithm --\n",
        "\n",
        "일단,,, input 값이 들어올 것이고 (input : 일단은 string 가정)\n",
        "\n",
        "input string 들어오면 (\"TOMATO\")\n",
        "\n",
        "들어온 input값을 역순으로 일단 만들어서, 임시 변수에다가 저장.\n",
        "\n",
        "temp = \"OTAMOT\" 이런 형태가 된다.\n",
        "\n",
        "그러고 나서 input 값과 temp가 동일한지 판단하면? -> 결과가 나오겠다... True or False\n",
        "\n",
        "-- 위 algorithm을 코드로 한번 작성 -- (윤석진)\n",
        "\n",
        "문제점 1: 이스케이프 문자가 들어온 경우 회문 인식을 제대로 하지 못함. X\n",
        "        이모지는 인식 제대로 함. O\n",
        "        숫자 인식 제대로 함. O\n",
        "        한국어 인식 O\n",
        "\n",
        "문제점1에 대한 예외처리 해보겠습니다. (김민규)\n",
        "\n",
        "\n",
        "(퍼실)\n",
        "이 palindrome detect 프로그램이 어떤 용도에 쓰일 것인가?\n",
        "escape 문자가 들어올 가능성이 있는가?\n",
        "들어온다면 어떻게 할 것인가?\n",
        "들어오는것을 어떻게 차단할 것인가?\n",
        "들어갔는데 회문으로 판단할 것인가?\n",
        "\n",
        "(석진)\n",
        "사용자가 과연 기능을 원할 것인가?로 approach\n",
        "딱히 원하는 사람은 없는데, 문제를 내기 위해서 만든 프로그램?\n",
        "\n",
        "\n"
      ],
      "metadata": {
        "id": "Bdo5hsm-tYA_"
      }
    },
    {
      "cell_type": "markdown",
      "source": [],
      "metadata": {
        "id": "clK_Ac18-Vp0"
      }
    },
    {
      "cell_type": "code",
      "source": [],
      "metadata": {
        "id": "bRwgOXi2-at-"
      },
      "execution_count": null,
      "outputs": []
    },
    {
      "cell_type": "code",
      "source": [
        "a = input(\"회문을 입력하세요: \")\n",
        "\n",
        "if a==a[::-1]:\n",
        "\n",
        "  print(\"회문입니다.\")\n",
        "\n",
        "else:\n",
        "\n",
        "  print(\"회문이 아닙니다.\")"
      ],
      "metadata": {
        "colab": {
          "base_uri": "https://localhost:8080/"
        },
        "id": "-gf3Pn5kuCRT",
        "outputId": "d255c227-e6c9-44d6-9f99-09bfdbc98ece"
      },
      "execution_count": 16,
      "outputs": [
        {
          "output_type": "stream",
          "name": "stdout",
          "text": [
            "회문을 입력하세요: AB우영우BA\n",
            "AB우영우BA\n",
            "회문입니다.\n"
          ]
        }
      ]
    },
    {
      "cell_type": "markdown",
      "source": [
        "위에서 이스케이프문자 관련한 것을 좀 연구해 보았습니다... (쉽지않네요)\n",
        "\n",
        "\\t가 string 안에 포함된경우 if 문 들어가야 할 것 같은데...\n",
        "**\\\\t로 해야 되더군요.. 왜일까요?**\n",
        "\n",
        "raw_string 의 escape+t와 지금 \\\\t 가 같은 것이다?"
      ],
      "metadata": {
        "id": "op3B3uCw85iO"
      }
    },
    {
      "cell_type": "code",
      "source": [
        "def function(s):\n",
        "  if \"\\\\t\" in s:\n",
        "\n",
        "    s = s.replace(\"\\\\t\", \"\")\n",
        "\n",
        "  return s\n",
        "\n",
        "a = input(\"회문 입력\")\n",
        "\n",
        "tmp = function(a)\n",
        "\n",
        "if tmp == tmp[::-1]:\n",
        "  print('회문')\n",
        "\n",
        "else:\n",
        "  print('not 회문')"
      ],
      "metadata": {
        "colab": {
          "base_uri": "https://localhost:8080/"
        },
        "id": "KYVA53UP9ANU",
        "outputId": "94a180f0-7075-4c92-d3cf-5cb130527ed3"
      },
      "execution_count": 18,
      "outputs": [
        {
          "output_type": "stream",
          "name": "stdout",
          "text": [
            "회문 입력LE\\tEL\n",
            "회문\n"
          ]
        }
      ]
    },
    {
      "cell_type": "code",
      "source": [
        "def to_raw(string):\n",
        "  print('ok')\n",
        "  return fr\"{string}\"\n",
        "\n",
        "def function(s):\n",
        "  if \"\\t\" in s:\n",
        "\n",
        "    s = s.replace(\"\\t\", \"\")\n",
        "    print(s)\n",
        "\n",
        "  return s\n",
        "\n",
        "a = input(\"회문 입력\")\n",
        "\n",
        "raw_string = to_raw(a)\n",
        "\n",
        "tmp = function(raw_string)\n",
        "\n",
        "if tmp == tmp[::-1]:\n",
        "  print('회문')\n",
        "\n",
        "else:\n",
        "  print('not 회문')"
      ],
      "metadata": {
        "colab": {
          "base_uri": "https://localhost:8080/"
        },
        "id": "QlGouWUo99n2",
        "outputId": "624712f9-8a9f-405c-c42a-3656040e8b15"
      },
      "execution_count": 19,
      "outputs": [
        {
          "output_type": "stream",
          "name": "stdout",
          "text": [
            "회문 입력le\\tel\n",
            "ok\n",
            "not 회문\n"
          ]
        }
      ]
    }
  ]
}
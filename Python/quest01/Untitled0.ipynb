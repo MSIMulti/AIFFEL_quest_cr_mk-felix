{
  "nbformat": 4,
  "nbformat_minor": 0,
  "metadata": {
    "colab": {
      "provenance": [],
      "authorship_tag": "ABX9TyOsT06rf51grniDGp5+8lpL",
      "include_colab_link": true
    },
    "kernelspec": {
      "name": "python3",
      "display_name": "Python 3"
    },
    "language_info": {
      "name": "python"
    }
  },
  "cells": [
    {
      "cell_type": "markdown",
      "metadata": {
        "id": "view-in-github",
        "colab_type": "text"
      },
      "source": [
        "<a href=\"https://colab.research.google.com/github/mk-felix/AIFFEL_quest_cr/blob/main/Python/quest01/Untitled0.ipynb\" target=\"_parent\"><img src=\"https://colab.research.google.com/assets/colab-badge.svg\" alt=\"Open In Colab\"/></a>"
      ]
    },
    {
      "cell_type": "code",
      "execution_count": 1,
      "metadata": {
        "colab": {
          "base_uri": "https://localhost:8080/"
        },
        "id": "swFklQe7nbmv",
        "outputId": "24c60059-bac0-429f-de28-d4b8660e0397"
      },
      "outputs": [
        {
          "output_type": "stream",
          "name": "stdout",
          "text": [
            "Hello World!\n"
          ]
        }
      ],
      "source": [
        "print('Hello World!')"
      ]
    },
    {
      "cell_type": "code",
      "source": [],
      "metadata": {
        "id": "C8gUB2ZBnk4C"
      },
      "execution_count": null,
      "outputs": []
    },
    {
      "cell_type": "markdown",
      "source": [
        "# 제목\n",
        "## 본문\n",
        "### 퀘스트 내용 퀘스트 조건\n",
        "* 조건1\n",
        "* 조건2"
      ],
      "metadata": {
        "id": "w9twHgD1nwsb"
      }
    },
    {
      "cell_type": "code",
      "source": [],
      "metadata": {
        "id": "NcsQsRKmnzfk"
      },
      "execution_count": null,
      "outputs": []
    }
  ]
}